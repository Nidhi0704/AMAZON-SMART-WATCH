{
 "cells": [
  {
   "cell_type": "code",
   "execution_count": 26,
   "metadata": {},
   "outputs": [],
   "source": [
    "from bs4 import BeautifulSoup\n",
    "import requests\n",
    "import pandas as pd"
   ]
  },
  {
   "cell_type": "markdown",
   "metadata": {},
   "source": [
    "### Creating the URL:-"
   ]
  },
  {
   "cell_type": "code",
   "execution_count": 27,
   "metadata": {},
   "outputs": [],
   "source": [
    "#url = \"https://www.flipkart.com/search?q=smart+watches&sid=ajy%2Cbuh&as=on&as-show=on&otracker=AS_QueryStore_OrganicAutoSuggest_2_11_na_na_ps&otracker1=AS_QueryStore_OrganicAutoSuggest_2_11_na_na_ps&as-pos=2&as-type=RECENT&suggestionId=smart+watches%7CSmart+Watches&requestId=eb700e6b-d4b9-4311-938c-83da6c4e100b&as-searchtext=smart+watch&page=1\""
   ]
  },
  {
   "cell_type": "markdown",
   "metadata": {},
   "source": [
    "### Headers for request:"
   ]
  },
  {
   "cell_type": "code",
   "execution_count": 28,
   "metadata": {},
   "outputs": [],
   "source": [
    "#HEADERS = {\"User-Agent\": \"Mozilla/5.0 (Windows NT 10.0; Win64; x64) AppleWebKit/537.36 (KHTML, like Gecko) Chrome/125.0.0.0 Safari/537.36 Edg/125.0.0.0\", \"Accept-Encoding\":\"gzip, deflate\", \"Accept\":\"text/html,application/xhtml+xml,application/xml;q=0.9,*/*;q=0.8\", \"DNT\":\"1\",\"Connection\":\"close\", \"Upgrade-Insecure-Requests\":\"1\"}\n"
   ]
  },
  {
   "cell_type": "markdown",
   "metadata": {},
   "source": [
    "### HTTP REQUEST:"
   ]
  },
  {
   "cell_type": "code",
   "execution_count": 29,
   "metadata": {},
   "outputs": [],
   "source": [
    "Brand_Name = []\n",
    "Price = []\n",
    "Size = []"
   ]
  },
  {
   "cell_type": "code",
   "execution_count": 30,
   "metadata": {},
   "outputs": [],
   "source": [
    "for i in range(1,26):\n",
    "\n",
    "    URL = f\"https://www.flipkart.com/search?q=smart+watches&sid=ajy%2Cbuh&as=on&as-show=on&otracker=AS_QueryStore_OrganicAutoSuggest_2_11_na_na_ps&otracker1=AS_QueryStore_OrganicAutoSuggest_2_11_na_na_ps&as-pos=2&as-type=RECENT&suggestionId=smart+watches%7CSmart+Watches&requestId=eb700e6b-d4b9-4311-938c-83da6c4e100b&as-searchtext=smart+watch&page={i}\"\n",
    "    \n",
    "    HEADERS = {\"User-Agent\": \"Mozilla/5.0 (Windows NT 10.0; Win64; x64) AppleWebKit/537.36 (KHTML, like Gecko) Chrome/125.0.0.0 Safari/537.36 Edg/125.0.0.0\", \"Accept-Encoding\":\"gzip, deflate\", \"Accept\":\"text/html,application/xhtml+xml,application/xml;q=0.9,*/*;q=0.8\", \"DNT\":\"1\",\"Connection\":\"close\", \"Upgrade-Insecure-Requests\":\"1\"}\n",
    "\n",
    "    page = requests.get(URL, headers=HEADERS)\n",
    "\n",
    "    soup = BeautifulSoup(page.content, \"html.parser\")\n",
    "\n",
    "    box = soup.find(\"div\",class_=\"DOjaWF YJG4Cf\")  ## fetch all the page\n",
    "\n",
    "    product_container = box.find_all(\"div\", class_=\"hCKiGj\")  ## fetch whole element\n",
    "\n",
    "    for container in product_container:\n",
    "     \n",
    "\n",
    "     brand = container.find(\"a\",class_=\"WKTcLC\")\n",
    "     Brand_Name.append(brand.text if brand else \"No_Brand\")\n",
    "\n",
    "     price = container.find(\"div\",class_=\"Nx9bqj\")\n",
    "     Price.append(price.text.strip() if price else \"0\")\n",
    "\n",
    "     size = container.find(\"div\",class_='Br9IW+')\n",
    "     Size.append(size.text if size else \"Not available\")\n",
    "\n",
    "df = pd.DataFrame({\n",
    "    \"Brand\" : Brand_Name,\n",
    "    \"Price\" : Price,\n",
    "    \"Size\": Size\n",
    "})     \n",
    "\n",
    "\n"
   ]
  },
  {
   "cell_type": "code",
   "execution_count": 31,
   "metadata": {},
   "outputs": [
    {
     "data": {
      "text/html": [
       "<div>\n",
       "<style scoped>\n",
       "    .dataframe tbody tr th:only-of-type {\n",
       "        vertical-align: middle;\n",
       "    }\n",
       "\n",
       "    .dataframe tbody tr th {\n",
       "        vertical-align: top;\n",
       "    }\n",
       "\n",
       "    .dataframe thead th {\n",
       "        text-align: right;\n",
       "    }\n",
       "</style>\n",
       "<table border=\"1\" class=\"dataframe\">\n",
       "  <thead>\n",
       "    <tr style=\"text-align: right;\">\n",
       "      <th></th>\n",
       "      <th>Brand</th>\n",
       "      <th>Price</th>\n",
       "      <th>Size</th>\n",
       "    </tr>\n",
       "  </thead>\n",
       "  <tbody>\n",
       "    <tr>\n",
       "      <th>0</th>\n",
       "      <td>Boult Drift BT Calling 1.69\" HD Display, 140+ ...</td>\n",
       "      <td>₹1,299</td>\n",
       "      <td>Black Strap, Free Size</td>\n",
       "    </tr>\n",
       "    <tr>\n",
       "      <th>1</th>\n",
       "      <td>Boult Drift+ Bluetooth Calling, 1.85\" HD, 500N...</td>\n",
       "      <td>₹1,399</td>\n",
       "      <td>Jet Black Strap, Free Size</td>\n",
       "    </tr>\n",
       "    <tr>\n",
       "      <th>2</th>\n",
       "      <td>Noise Colorfit Icon 2 1.8'' Display with Bluet...</td>\n",
       "      <td>₹1,399</td>\n",
       "      <td>Black Strap, Regular</td>\n",
       "    </tr>\n",
       "    <tr>\n",
       "      <th>3</th>\n",
       "      <td>Fastrack Revoltt FS1|1.83 Display|BT Calling|F...</td>\n",
       "      <td>₹1,199</td>\n",
       "      <td>Black Strap, Free Size</td>\n",
       "    </tr>\n",
       "    <tr>\n",
       "      <th>4</th>\n",
       "      <td>boAt Wave Connect Plus with 1.83'' HD Display ...</td>\n",
       "      <td>₹1,099</td>\n",
       "      <td>Chocolate Brown Strap, Free Size</td>\n",
       "    </tr>\n",
       "  </tbody>\n",
       "</table>\n",
       "</div>"
      ],
      "text/plain": [
       "                                               Brand   Price  \\\n",
       "0  Boult Drift BT Calling 1.69\" HD Display, 140+ ...  ₹1,299   \n",
       "1  Boult Drift+ Bluetooth Calling, 1.85\" HD, 500N...  ₹1,399   \n",
       "2  Noise Colorfit Icon 2 1.8'' Display with Bluet...  ₹1,399   \n",
       "3  Fastrack Revoltt FS1|1.83 Display|BT Calling|F...  ₹1,199   \n",
       "4  boAt Wave Connect Plus with 1.83'' HD Display ...  ₹1,099   \n",
       "\n",
       "                               Size  \n",
       "0            Black Strap, Free Size  \n",
       "1        Jet Black Strap, Free Size  \n",
       "2              Black Strap, Regular  \n",
       "3            Black Strap, Free Size  \n",
       "4  Chocolate Brown Strap, Free Size  "
      ]
     },
     "execution_count": 31,
     "metadata": {},
     "output_type": "execute_result"
    }
   ],
   "source": [
    "df.head()"
   ]
  },
  {
   "cell_type": "code",
   "execution_count": 32,
   "metadata": {},
   "outputs": [
    {
     "data": {
      "text/plain": [
       "0                Black Strap, Free Size\n",
       "1            Jet Black Strap, Free Size\n",
       "2                  Black Strap, Regular\n",
       "3                Black Strap, Free Size\n",
       "4      Chocolate Brown Strap, Free Size\n",
       "                     ...               \n",
       "995              MULTICOLOR Strap, KIDS\n",
       "996              Black Strap, Free Size\n",
       "997         Space Grey Strap, Free Size\n",
       "998                Black Strap, Regular\n",
       "999              Black Strap, Free Size\n",
       "Name: Size, Length: 1000, dtype: object"
      ]
     },
     "execution_count": 32,
     "metadata": {},
     "output_type": "execute_result"
    }
   ],
   "source": [
    "df[\"Size\"]"
   ]
  },
  {
   "cell_type": "code",
   "execution_count": 33,
   "metadata": {},
   "outputs": [],
   "source": [
    "df[\"Strap_color\"] = df[\"Size\"].str.split(\",\").str[0]"
   ]
  },
  {
   "cell_type": "code",
   "execution_count": 34,
   "metadata": {},
   "outputs": [],
   "source": [
    "df[\"Size_fits\"] = df[\"Size\"].str.split(\",\").str[-1]"
   ]
  },
  {
   "cell_type": "code",
   "execution_count": 35,
   "metadata": {},
   "outputs": [
    {
     "data": {
      "text/html": [
       "<div>\n",
       "<style scoped>\n",
       "    .dataframe tbody tr th:only-of-type {\n",
       "        vertical-align: middle;\n",
       "    }\n",
       "\n",
       "    .dataframe tbody tr th {\n",
       "        vertical-align: top;\n",
       "    }\n",
       "\n",
       "    .dataframe thead th {\n",
       "        text-align: right;\n",
       "    }\n",
       "</style>\n",
       "<table border=\"1\" class=\"dataframe\">\n",
       "  <thead>\n",
       "    <tr style=\"text-align: right;\">\n",
       "      <th></th>\n",
       "      <th>Brand</th>\n",
       "      <th>Price</th>\n",
       "      <th>Size</th>\n",
       "      <th>Strap_color</th>\n",
       "      <th>Size_fits</th>\n",
       "    </tr>\n",
       "  </thead>\n",
       "  <tbody>\n",
       "    <tr>\n",
       "      <th>403</th>\n",
       "      <td>Boston Levin Infinity,1.85\" AMOLED Display,And...</td>\n",
       "      <td>₹1,449</td>\n",
       "      <td>Black Strap, 46*39*11.8 MM</td>\n",
       "      <td>Black Strap</td>\n",
       "      <td>46*39*11.8 MM</td>\n",
       "    </tr>\n",
       "  </tbody>\n",
       "</table>\n",
       "</div>"
      ],
      "text/plain": [
       "                                                 Brand   Price  \\\n",
       "403  Boston Levin Infinity,1.85\" AMOLED Display,And...  ₹1,449   \n",
       "\n",
       "                           Size  Strap_color       Size_fits  \n",
       "403  Black Strap, 46*39*11.8 MM  Black Strap   46*39*11.8 MM  "
      ]
     },
     "execution_count": 35,
     "metadata": {},
     "output_type": "execute_result"
    }
   ],
   "source": [
    "df.sample()"
   ]
  },
  {
   "cell_type": "code",
   "execution_count": 36,
   "metadata": {},
   "outputs": [],
   "source": [
    "df.drop(\"Size\", axis=1, inplace=True)"
   ]
  },
  {
   "cell_type": "code",
   "execution_count": 37,
   "metadata": {},
   "outputs": [
    {
     "data": {
      "text/html": [
       "<div>\n",
       "<style scoped>\n",
       "    .dataframe tbody tr th:only-of-type {\n",
       "        vertical-align: middle;\n",
       "    }\n",
       "\n",
       "    .dataframe tbody tr th {\n",
       "        vertical-align: top;\n",
       "    }\n",
       "\n",
       "    .dataframe thead th {\n",
       "        text-align: right;\n",
       "    }\n",
       "</style>\n",
       "<table border=\"1\" class=\"dataframe\">\n",
       "  <thead>\n",
       "    <tr style=\"text-align: right;\">\n",
       "      <th></th>\n",
       "      <th>Brand</th>\n",
       "      <th>Price</th>\n",
       "      <th>Strap_color</th>\n",
       "      <th>Size_fits</th>\n",
       "    </tr>\n",
       "  </thead>\n",
       "  <tbody>\n",
       "    <tr>\n",
       "      <th>630</th>\n",
       "      <td>Urban FIT S 1.78\" AMOLED Display with Bluetoot...</td>\n",
       "      <td>₹2,499</td>\n",
       "      <td>Space Grey Strap</td>\n",
       "      <td>Free Size</td>\n",
       "    </tr>\n",
       "  </tbody>\n",
       "</table>\n",
       "</div>"
      ],
      "text/plain": [
       "                                                 Brand   Price  \\\n",
       "630  Urban FIT S 1.78\" AMOLED Display with Bluetoot...  ₹2,499   \n",
       "\n",
       "          Strap_color   Size_fits  \n",
       "630  Space Grey Strap   Free Size  "
      ]
     },
     "execution_count": 37,
     "metadata": {},
     "output_type": "execute_result"
    }
   ],
   "source": [
    "df.sample()"
   ]
  },
  {
   "cell_type": "code",
   "execution_count": 38,
   "metadata": {},
   "outputs": [],
   "source": [
    "df[\"Price\"] = df[\"Price\"].str.replace(\"₹\", \"\").str.replace(\",\",\"\")"
   ]
  },
  {
   "cell_type": "code",
   "execution_count": 39,
   "metadata": {},
   "outputs": [
    {
     "data": {
      "text/html": [
       "<div>\n",
       "<style scoped>\n",
       "    .dataframe tbody tr th:only-of-type {\n",
       "        vertical-align: middle;\n",
       "    }\n",
       "\n",
       "    .dataframe tbody tr th {\n",
       "        vertical-align: top;\n",
       "    }\n",
       "\n",
       "    .dataframe thead th {\n",
       "        text-align: right;\n",
       "    }\n",
       "</style>\n",
       "<table border=\"1\" class=\"dataframe\">\n",
       "  <thead>\n",
       "    <tr style=\"text-align: right;\">\n",
       "      <th></th>\n",
       "      <th>Brand</th>\n",
       "      <th>Price</th>\n",
       "      <th>Strap_color</th>\n",
       "      <th>Size_fits</th>\n",
       "    </tr>\n",
       "  </thead>\n",
       "  <tbody>\n",
       "    <tr>\n",
       "      <th>505</th>\n",
       "      <td>NSP STORE T800 Ultra Smart Watch / Bluetooth S...</td>\n",
       "      <td>712</td>\n",
       "      <td>Black Strap</td>\n",
       "      <td>Free Size</td>\n",
       "    </tr>\n",
       "  </tbody>\n",
       "</table>\n",
       "</div>"
      ],
      "text/plain": [
       "                                                 Brand Price  Strap_color  \\\n",
       "505  NSP STORE T800 Ultra Smart Watch / Bluetooth S...   712  Black Strap   \n",
       "\n",
       "      Size_fits  \n",
       "505   Free Size  "
      ]
     },
     "execution_count": 39,
     "metadata": {},
     "output_type": "execute_result"
    }
   ],
   "source": [
    "df.sample()"
   ]
  },
  {
   "cell_type": "code",
   "execution_count": 40,
   "metadata": {},
   "outputs": [],
   "source": [
    "df[\"Brand_Name\"] = df[\"Brand\"].str.split(\" \").str[:2]"
   ]
  },
  {
   "cell_type": "code",
   "execution_count": 41,
   "metadata": {},
   "outputs": [
    {
     "data": {
      "text/plain": [
       "<pandas.core.strings.accessor.StringMethods at 0x1c62c23d810>"
      ]
     },
     "execution_count": 41,
     "metadata": {},
     "output_type": "execute_result"
    }
   ],
   "source": [
    "df[\"Brand_Name\"].str"
   ]
  },
  {
   "cell_type": "code",
   "execution_count": 42,
   "metadata": {},
   "outputs": [],
   "source": [
    "df[\"Brand_Name\"] = df[\"Brand_Name\"].str.join(\" \")"
   ]
  },
  {
   "cell_type": "code",
   "execution_count": 43,
   "metadata": {},
   "outputs": [
    {
     "data": {
      "text/html": [
       "<div>\n",
       "<style scoped>\n",
       "    .dataframe tbody tr th:only-of-type {\n",
       "        vertical-align: middle;\n",
       "    }\n",
       "\n",
       "    .dataframe tbody tr th {\n",
       "        vertical-align: top;\n",
       "    }\n",
       "\n",
       "    .dataframe thead th {\n",
       "        text-align: right;\n",
       "    }\n",
       "</style>\n",
       "<table border=\"1\" class=\"dataframe\">\n",
       "  <thead>\n",
       "    <tr style=\"text-align: right;\">\n",
       "      <th></th>\n",
       "      <th>Brand</th>\n",
       "      <th>Price</th>\n",
       "      <th>Strap_color</th>\n",
       "      <th>Size_fits</th>\n",
       "      <th>Brand_Name</th>\n",
       "    </tr>\n",
       "  </thead>\n",
       "  <tbody>\n",
       "    <tr>\n",
       "      <th>641</th>\n",
       "      <td>Boult Drift+ Bluetooth Calling, 1.85\" HD, 500N...</td>\n",
       "      <td>1399</td>\n",
       "      <td>Jet Black Strap</td>\n",
       "      <td>Free Size</td>\n",
       "      <td>Boult Drift+</td>\n",
       "    </tr>\n",
       "  </tbody>\n",
       "</table>\n",
       "</div>"
      ],
      "text/plain": [
       "                                                 Brand Price      Strap_color  \\\n",
       "641  Boult Drift+ Bluetooth Calling, 1.85\" HD, 500N...  1399  Jet Black Strap   \n",
       "\n",
       "      Size_fits    Brand_Name  \n",
       "641   Free Size  Boult Drift+  "
      ]
     },
     "execution_count": 43,
     "metadata": {},
     "output_type": "execute_result"
    }
   ],
   "source": [
    "df.sample()"
   ]
  },
  {
   "cell_type": "code",
   "execution_count": 44,
   "metadata": {},
   "outputs": [],
   "source": [
    "df[\"Screen_Size\"] = df['Brand'].str.extract(r'(\\d{1,2}\\.\\d{1,2})')"
   ]
  },
  {
   "cell_type": "code",
   "execution_count": 45,
   "metadata": {},
   "outputs": [],
   "source": [
    "df['Calling_System'] = df['Brand'].apply(lambda x: 'Yes' if 'Calling' in x else 'No')"
   ]
  },
  {
   "cell_type": "code",
   "execution_count": 46,
   "metadata": {},
   "outputs": [
    {
     "data": {
      "text/html": [
       "<div>\n",
       "<style scoped>\n",
       "    .dataframe tbody tr th:only-of-type {\n",
       "        vertical-align: middle;\n",
       "    }\n",
       "\n",
       "    .dataframe tbody tr th {\n",
       "        vertical-align: top;\n",
       "    }\n",
       "\n",
       "    .dataframe thead th {\n",
       "        text-align: right;\n",
       "    }\n",
       "</style>\n",
       "<table border=\"1\" class=\"dataframe\">\n",
       "  <thead>\n",
       "    <tr style=\"text-align: right;\">\n",
       "      <th></th>\n",
       "      <th>Brand</th>\n",
       "      <th>Price</th>\n",
       "      <th>Strap_color</th>\n",
       "      <th>Size_fits</th>\n",
       "      <th>Brand_Name</th>\n",
       "      <th>Screen_Size</th>\n",
       "      <th>Calling_System</th>\n",
       "    </tr>\n",
       "  </thead>\n",
       "  <tbody>\n",
       "    <tr>\n",
       "      <th>302</th>\n",
       "      <td>Fastrack Optimus Pro with 1.43\" AMOLED Display...</td>\n",
       "      <td>2199</td>\n",
       "      <td>Green Strap</td>\n",
       "      <td>Free Size</td>\n",
       "      <td>Fastrack Optimus</td>\n",
       "      <td>1.43</td>\n",
       "      <td>No</td>\n",
       "    </tr>\n",
       "  </tbody>\n",
       "</table>\n",
       "</div>"
      ],
      "text/plain": [
       "                                                 Brand Price  Strap_color  \\\n",
       "302  Fastrack Optimus Pro with 1.43\" AMOLED Display...  2199  Green Strap   \n",
       "\n",
       "      Size_fits        Brand_Name Screen_Size Calling_System  \n",
       "302   Free Size  Fastrack Optimus        1.43             No  "
      ]
     },
     "execution_count": 46,
     "metadata": {},
     "output_type": "execute_result"
    }
   ],
   "source": [
    "df.sample()"
   ]
  },
  {
   "cell_type": "code",
   "execution_count": 47,
   "metadata": {},
   "outputs": [],
   "source": [
    "df.drop([\"Brand\"], axis=1, inplace=True)"
   ]
  },
  {
   "cell_type": "code",
   "execution_count": 48,
   "metadata": {},
   "outputs": [
    {
     "data": {
      "text/html": [
       "<div>\n",
       "<style scoped>\n",
       "    .dataframe tbody tr th:only-of-type {\n",
       "        vertical-align: middle;\n",
       "    }\n",
       "\n",
       "    .dataframe tbody tr th {\n",
       "        vertical-align: top;\n",
       "    }\n",
       "\n",
       "    .dataframe thead th {\n",
       "        text-align: right;\n",
       "    }\n",
       "</style>\n",
       "<table border=\"1\" class=\"dataframe\">\n",
       "  <thead>\n",
       "    <tr style=\"text-align: right;\">\n",
       "      <th></th>\n",
       "      <th>Price</th>\n",
       "      <th>Strap_color</th>\n",
       "      <th>Size_fits</th>\n",
       "      <th>Brand_Name</th>\n",
       "      <th>Screen_Size</th>\n",
       "      <th>Calling_System</th>\n",
       "    </tr>\n",
       "  </thead>\n",
       "  <tbody>\n",
       "    <tr>\n",
       "      <th>0</th>\n",
       "      <td>1299</td>\n",
       "      <td>Black Strap</td>\n",
       "      <td>Free Size</td>\n",
       "      <td>Boult Drift</td>\n",
       "      <td>1.69</td>\n",
       "      <td>Yes</td>\n",
       "    </tr>\n",
       "    <tr>\n",
       "      <th>1</th>\n",
       "      <td>1399</td>\n",
       "      <td>Jet Black Strap</td>\n",
       "      <td>Free Size</td>\n",
       "      <td>Boult Drift+</td>\n",
       "      <td>1.85</td>\n",
       "      <td>Yes</td>\n",
       "    </tr>\n",
       "    <tr>\n",
       "      <th>2</th>\n",
       "      <td>1399</td>\n",
       "      <td>Black Strap</td>\n",
       "      <td>Regular</td>\n",
       "      <td>Noise Colorfit</td>\n",
       "      <td>1.8</td>\n",
       "      <td>No</td>\n",
       "    </tr>\n",
       "    <tr>\n",
       "      <th>3</th>\n",
       "      <td>1199</td>\n",
       "      <td>Black Strap</td>\n",
       "      <td>Free Size</td>\n",
       "      <td>Fastrack Revoltt</td>\n",
       "      <td>1.83</td>\n",
       "      <td>Yes</td>\n",
       "    </tr>\n",
       "    <tr>\n",
       "      <th>4</th>\n",
       "      <td>1099</td>\n",
       "      <td>Chocolate Brown Strap</td>\n",
       "      <td>Free Size</td>\n",
       "      <td>boAt Wave</td>\n",
       "      <td>1.83</td>\n",
       "      <td>No</td>\n",
       "    </tr>\n",
       "  </tbody>\n",
       "</table>\n",
       "</div>"
      ],
      "text/plain": [
       "  Price            Strap_color   Size_fits        Brand_Name Screen_Size  \\\n",
       "0  1299            Black Strap   Free Size       Boult Drift        1.69   \n",
       "1  1399        Jet Black Strap   Free Size      Boult Drift+        1.85   \n",
       "2  1399            Black Strap     Regular    Noise Colorfit         1.8   \n",
       "3  1199            Black Strap   Free Size  Fastrack Revoltt        1.83   \n",
       "4  1099  Chocolate Brown Strap   Free Size         boAt Wave        1.83   \n",
       "\n",
       "  Calling_System  \n",
       "0            Yes  \n",
       "1            Yes  \n",
       "2             No  \n",
       "3            Yes  \n",
       "4             No  "
      ]
     },
     "execution_count": 48,
     "metadata": {},
     "output_type": "execute_result"
    }
   ],
   "source": [
    "df.head()"
   ]
  },
  {
   "cell_type": "code",
   "execution_count": 49,
   "metadata": {},
   "outputs": [],
   "source": [
    "df.to_csv(\"Scrapped watch data.csv\")"
   ]
  },
  {
   "cell_type": "code",
   "execution_count": null,
   "metadata": {},
   "outputs": [],
   "source": []
  },
  {
   "cell_type": "code",
   "execution_count": null,
   "metadata": {},
   "outputs": [],
   "source": []
  },
  {
   "cell_type": "code",
   "execution_count": null,
   "metadata": {},
   "outputs": [],
   "source": []
  },
  {
   "cell_type": "code",
   "execution_count": null,
   "metadata": {},
   "outputs": [],
   "source": []
  },
  {
   "cell_type": "code",
   "execution_count": null,
   "metadata": {},
   "outputs": [],
   "source": []
  }
 ],
 "metadata": {
  "kernelspec": {
   "display_name": "Python 3",
   "language": "python",
   "name": "python3"
  },
  "language_info": {
   "codemirror_mode": {
    "name": "ipython",
    "version": 3
   },
   "file_extension": ".py",
   "mimetype": "text/x-python",
   "name": "python",
   "nbconvert_exporter": "python",
   "pygments_lexer": "ipython3",
   "version": "3.11.9"
  }
 },
 "nbformat": 4,
 "nbformat_minor": 2
}
